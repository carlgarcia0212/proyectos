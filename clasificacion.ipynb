{
 "cells": [
  {
   "cell_type": "code",
   "execution_count": 1,
   "metadata": {},
   "outputs": [],
   "source": [
    "import pandas as pd\n",
    "\n",
    "\n",
    "entrenamiento = pd.read_csv('C:/Users/cgarciaa/Desktop/archivo_de_entrenamiento.csv', encoding='latin-1', sep=';')\n",
    "clasificacion = pd.read_csv('C:/Users/cgarciaa/Desktop/archivo_de_clasificacion.csv', encoding='latin-1', sep=';')\n"
   ]
  },
  {
   "cell_type": "code",
   "execution_count": 22,
   "metadata": {},
   "outputs": [
    {
     "name": "stdout",
     "output_type": "stream",
     "text": [
      "Collecting scikit-learn\n",
      "  Downloading scikit_learn-1.5.2-cp312-cp312-win_amd64.whl.metadata (13 kB)\n",
      "Requirement already satisfied: numpy>=1.19.5 in c:\\users\\cgarciaa\\appdata\\local\\programs\\python\\python312\\lib\\site-packages (from scikit-learn) (2.0.1)\n",
      "Collecting scipy>=1.6.0 (from scikit-learn)\n",
      "  Downloading scipy-1.14.1-cp312-cp312-win_amd64.whl.metadata (60 kB)\n",
      "Collecting joblib>=1.2.0 (from scikit-learn)\n",
      "  Downloading joblib-1.4.2-py3-none-any.whl.metadata (5.4 kB)\n",
      "Collecting threadpoolctl>=3.1.0 (from scikit-learn)\n",
      "  Downloading threadpoolctl-3.5.0-py3-none-any.whl.metadata (13 kB)\n",
      "Downloading scikit_learn-1.5.2-cp312-cp312-win_amd64.whl (11.0 MB)\n",
      "   ---------------------------------------- 0.0/11.0 MB ? eta -:--:--\n",
      "   ------ --------------------------------- 1.8/11.0 MB 9.1 MB/s eta 0:00:02\n",
      "   -------------- ------------------------- 3.9/11.0 MB 9.8 MB/s eta 0:00:01\n",
      "   --------------------- ------------------ 6.0/11.0 MB 10.0 MB/s eta 0:00:01\n",
      "   ----------------------------- ---------- 8.1/11.0 MB 10.3 MB/s eta 0:00:01\n",
      "   ------------------------------------ --- 10.0/11.0 MB 10.5 MB/s eta 0:00:01\n",
      "   ---------------------------------------- 11.0/11.0 MB 9.5 MB/s eta 0:00:00\n",
      "Downloading joblib-1.4.2-py3-none-any.whl (301 kB)\n",
      "Downloading scipy-1.14.1-cp312-cp312-win_amd64.whl (44.5 MB)\n",
      "   ---------------------------------------- 0.0/44.5 MB ? eta -:--:--\n",
      "   - -------------------------------------- 1.8/44.5 MB 9.2 MB/s eta 0:00:05\n",
      "   --- ------------------------------------ 4.2/44.5 MB 10.5 MB/s eta 0:00:04\n",
      "   ----- ---------------------------------- 6.6/44.5 MB 10.6 MB/s eta 0:00:04\n",
      "   ------- -------------------------------- 8.7/44.5 MB 10.5 MB/s eta 0:00:04\n",
      "   --------- ------------------------------ 10.7/44.5 MB 10.7 MB/s eta 0:00:04\n",
      "   ----------- ---------------------------- 13.1/44.5 MB 10.7 MB/s eta 0:00:03\n",
      "   -------------- ------------------------- 15.7/44.5 MB 10.8 MB/s eta 0:00:03\n",
      "   ---------------- ----------------------- 17.8/44.5 MB 10.7 MB/s eta 0:00:03\n",
      "   ------------------ --------------------- 20.2/44.5 MB 10.7 MB/s eta 0:00:03\n",
      "   -------------------- ------------------- 22.5/44.5 MB 10.8 MB/s eta 0:00:03\n",
      "   ---------------------- ----------------- 24.6/44.5 MB 10.8 MB/s eta 0:00:02\n",
      "   ------------------------ --------------- 27.3/44.5 MB 10.8 MB/s eta 0:00:02\n",
      "   -------------------------- ------------- 29.6/44.5 MB 10.9 MB/s eta 0:00:02\n",
      "   ---------------------------- ----------- 31.2/44.5 MB 10.6 MB/s eta 0:00:02\n",
      "   ----------------------------- ---------- 33.0/44.5 MB 10.5 MB/s eta 0:00:02\n",
      "   ------------------------------- -------- 35.4/44.5 MB 10.5 MB/s eta 0:00:01\n",
      "   --------------------------------- ------ 37.5/44.5 MB 10.5 MB/s eta 0:00:01\n",
      "   ----------------------------------- ---- 39.8/44.5 MB 10.5 MB/s eta 0:00:01\n",
      "   ------------------------------------- -- 41.7/44.5 MB 10.5 MB/s eta 0:00:01\n",
      "   ---------------------------------------  44.0/44.5 MB 10.5 MB/s eta 0:00:01\n",
      "   ---------------------------------------- 44.5/44.5 MB 10.3 MB/s eta 0:00:00\n",
      "Downloading threadpoolctl-3.5.0-py3-none-any.whl (18 kB)\n",
      "Installing collected packages: threadpoolctl, scipy, joblib, scikit-learn\n",
      "Successfully installed joblib-1.4.2 scikit-learn-1.5.2 scipy-1.14.1 threadpoolctl-3.5.0\n",
      "Note: you may need to restart the kernel to use updated packages.\n"
     ]
    }
   ],
   "source": [
    "pip install scikit-learn\n"
   ]
  },
  {
   "cell_type": "code",
   "execution_count": 18,
   "metadata": {},
   "outputs": [
    {
     "name": "stdout",
     "output_type": "stream",
     "text": [
      "ProductDescription    0\n",
      "SubCategoryName       0\n",
      "dtype: int64\n",
      "Código                    0\n",
      "Marca                     0\n",
      "ProductDescription        3\n",
      "Unnamed: 3            43599\n",
      "dtype: int64\n"
     ]
    }
   ],
   "source": [
    "\n",
    "entrenamiento['ProductDescription'] = entrenamiento['ProductDescription'].str.lower().str.strip()\n",
    "clasificacion['ProductDescription'] = clasificacion['ProductDescription'].str.lower().str.strip()\n",
    "\n",
    "\n",
    "print(entrenamiento.isnull().sum())\n",
    "print(clasificacion.isnull().sum())\n"
   ]
  },
  {
   "cell_type": "code",
   "execution_count": 24,
   "metadata": {},
   "outputs": [],
   "source": [
    "clasificacion['ProductDescription'].fillna('', inplace=True)\n"
   ]
  },
  {
   "cell_type": "code",
   "execution_count": 26,
   "metadata": {},
   "outputs": [],
   "source": [
    "from sklearn.feature_extraction.text import TfidfVectorizer\n",
    "\n",
    "\n",
    "vectorizer = TfidfVectorizer()\n",
    "\n",
    "\n",
    "X_entrenamiento = vectorizer.fit_transform(entrenamiento['ProductDescription'])\n",
    "X_clasificacion = vectorizer.transform(clasificacion['ProductDescription'])\n"
   ]
  },
  {
   "cell_type": "markdown",
   "metadata": {},
   "source": [
    "Random forest"
   ]
  },
  {
   "cell_type": "code",
   "execution_count": 27,
   "metadata": {},
   "outputs": [
    {
     "name": "stdout",
     "output_type": "stream",
     "text": [
      "Exactitud del modelo: 0.6666666666666666\n"
     ]
    }
   ],
   "source": [
    "from sklearn.ensemble import RandomForestClassifier\n",
    "from sklearn.model_selection import train_test_split\n",
    "\n",
    "\n",
    "X_train, X_test, y_train, y_test = train_test_split(X_entrenamiento, entrenamiento['SubCategoryName'], test_size=0.2, random_state=42)\n",
    "\n",
    "\n",
    "model = RandomForestClassifier()\n",
    "model.fit(X_train, y_train)\n",
    "\n",
    "\n",
    "accuracy = model.score(X_test, y_test)\n",
    "print(f'Exactitud del modelo: {accuracy}')\n"
   ]
  },
  {
   "cell_type": "markdown",
   "metadata": {},
   "source": [
    "Regresión logística"
   ]
  },
  {
   "cell_type": "code",
   "execution_count": 28,
   "metadata": {},
   "outputs": [
    {
     "name": "stdout",
     "output_type": "stream",
     "text": [
      "Exactitud del modelo de Logistic Regression: 0.6741490610328639\n"
     ]
    }
   ],
   "source": [
    "from sklearn.linear_model import LogisticRegression\n",
    "\n",
    "\n",
    "logistic_model = LogisticRegression(max_iter=1000)\n",
    "logistic_model.fit(X_train, y_train)\n",
    "\n",
    "\n",
    "logistic_accuracy = logistic_model.score(X_test, y_test)\n",
    "print(f'Exactitud del modelo de Logistic Regression: {logistic_accuracy}')"
   ]
  },
  {
   "cell_type": "markdown",
   "metadata": {},
   "source": [
    "SVM"
   ]
  },
  {
   "cell_type": "code",
   "execution_count": 29,
   "metadata": {},
   "outputs": [
    {
     "name": "stdout",
     "output_type": "stream",
     "text": [
      "Exactitud del modelo de SVM: 0.6864730046948356\n"
     ]
    }
   ],
   "source": [
    "from sklearn.svm import SVC\n",
    "\n",
    "svm_model = SVC()\n",
    "svm_model.fit(X_train, y_train)\n",
    "\n",
    "\n",
    "svm_accuracy = svm_model.score(X_test, y_test)\n",
    "print(f'Exactitud del modelo de SVM: {svm_accuracy}')\n"
   ]
  },
  {
   "cell_type": "markdown",
   "metadata": {},
   "source": [
    "KNN"
   ]
  },
  {
   "cell_type": "code",
   "execution_count": 30,
   "metadata": {},
   "outputs": [
    {
     "name": "stdout",
     "output_type": "stream",
     "text": [
      "Exactitud del modelo de KNN: 0.599618544600939\n"
     ]
    }
   ],
   "source": [
    "from sklearn.neighbors import KNeighborsClassifier\n",
    "\n",
    "\n",
    "knn_model = KNeighborsClassifier(n_neighbors=5)\n",
    "knn_model.fit(X_train, y_train)\n",
    "\n",
    "\n",
    "knn_accuracy = knn_model.score(X_test, y_test)\n",
    "print(f'Exactitud del modelo de KNN: {knn_accuracy}')\n"
   ]
  },
  {
   "cell_type": "markdown",
   "metadata": {},
   "source": [
    "boosting"
   ]
  },
  {
   "cell_type": "code",
   "execution_count": 31,
   "metadata": {},
   "outputs": [
    {
     "name": "stdout",
     "output_type": "stream",
     "text": [
      "Exactitud del modelo de Gradient Boosting: 0.6404049295774648\n"
     ]
    }
   ],
   "source": [
    "from sklearn.ensemble import GradientBoostingClassifier\n",
    "\n",
    "\n",
    "gb_model = GradientBoostingClassifier()\n",
    "gb_model.fit(X_train, y_train)\n",
    "\n",
    "\n",
    "gb_accuracy = gb_model.score(X_test, y_test)\n",
    "print(f'Exactitud del modelo de Gradient Boosting: {gb_accuracy}')\n"
   ]
  },
  {
   "cell_type": "code",
   "execution_count": 36,
   "metadata": {},
   "outputs": [
    {
     "name": "stdout",
     "output_type": "stream",
     "text": [
      "Exactitud promedio en validación cruzada (SVM): 0.6441389127132569\n",
      "          ProductDescription  PredictedCategory\n",
      "0  ampolleta patente corteci   Opticos, Faroles\n",
      "1   ampolleta estacion.placa   Opticos, Faroles\n",
      "2   valvula adm. c4 04/ 1,6l  Admisión y Escape\n",
      "3   ampolleta f/mayor corcel   Opticos, Faroles\n",
      "4  ampolleta 1contacto blanc   Opticos, Faroles\n"
     ]
    }
   ],
   "source": [
    "from sklearn.svm import SVC\n",
    "from sklearn.model_selection import cross_val_score\n",
    "\n",
    "\n",
    "svm_model = SVC()\n",
    "\n",
    "\n",
    "svm_cv_scores = cross_val_score(svm_model, X_entrenamiento, entrenamiento['SubCategoryName'], cv=5)\n",
    "print(f'Exactitud promedio en validación cruzada (SVM): {svm_cv_scores.mean()}')\n",
    "\n",
    "svm_model.fit(X_entrenamiento, entrenamiento['SubCategoryName'])\n",
    "\n",
    "clasificacion['PredictedCategory'] = svm_model.predict(X_clasificacion)\n",
    "\n",
    "print(clasificacion[['ProductDescription', 'PredictedCategory']].head())\n",
    "\n",
    "clasificacion.to_csv('C:/Users/cgarciaa/Desktop/archivo_de_resultados_svm.csv', index=False)\n"
   ]
  }
 ],
 "metadata": {
  "kernelspec": {
   "display_name": "Python 3",
   "language": "python",
   "name": "python3"
  },
  "language_info": {
   "codemirror_mode": {
    "name": "ipython",
    "version": 3
   },
   "file_extension": ".py",
   "mimetype": "text/x-python",
   "name": "python",
   "nbconvert_exporter": "python",
   "pygments_lexer": "ipython3",
   "version": "3.12.6"
  }
 },
 "nbformat": 4,
 "nbformat_minor": 2
}
