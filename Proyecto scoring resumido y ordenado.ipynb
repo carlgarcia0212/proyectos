{
 "cells": [
  {
   "cell_type": "markdown",
   "metadata": {},
   "source": [
    "# 1. Bibliotecas"
   ]
  },
  {
   "cell_type": "code",
   "execution_count": 1,
   "metadata": {},
   "outputs": [],
   "source": [
    "import pandas as pd\n",
    "import pyodbc\n",
    "import pandasql as psql\n",
    "import numpy as np"
   ]
  },
  {
   "cell_type": "markdown",
   "metadata": {},
   "source": [
    "# 2. conexion integra"
   ]
  },
  {
   "cell_type": "code",
   "execution_count": 2,
   "metadata": {},
   "outputs": [],
   "source": [
    "con = pyodbc.connect(dsn='Integra')"
   ]
  },
  {
   "cell_type": "markdown",
   "metadata": {},
   "source": [
    "# 3. Parametros"
   ]
  },
  {
   "cell_type": "code",
   "execution_count": 3,
   "metadata": {},
   "outputs": [],
   "source": [
    "Fecha_proceso=202403\n",
    "UF=37601"
   ]
  },
  {
   "cell_type": "markdown",
   "metadata": {},
   "source": [
    "# 4. Extraccion informacion"
   ]
  },
  {
   "cell_type": "markdown",
   "metadata": {},
   "source": [
    "### 4.1 Información afiliados"
   ]
  },
  {
   "cell_type": "code",
   "execution_count": 5,
   "metadata": {},
   "outputs": [
    {
     "name": "stderr",
     "output_type": "stream",
     "text": [
      "C:\\Users\\cgarciaa\\AppData\\Local\\Temp\\ipykernel_18372\\1876507043.py:1: UserWarning: pandas only supports SQLAlchemy connectable (engine/connection) or database string URI or sqlite3 DBAPI2 connection. Other DBAPI2 objects are not tested. Please consider using SQLAlchemy.\n",
      "  Informacion_afiliados =pd.read_sql(f\"\"\"\n"
     ]
    }
   ],
   "source": [
    "Informacion_afiliados =pd.read_sql(f\"\"\"\n",
    "WITH ExpuestosSegmento AS (\n",
    "    SELECT\n",
    "        cc.ID_FOLIO_CONTRATO,\n",
    "        cc.ID_CORRELATIVO_PLAN,\n",
    "        cc.F_VALOR_BASE_PLAN_UF AS F_VALOR_BASE_PLAN,\n",
    "        cc.F_PRECIO_PLAN_UF AS F_PRECIO_PLAN,\n",
    "        cc.F_RENTA_IMPONIBLE_AFILIADO,\n",
    "        cc.F_MONTO_COTIZACION_PACTADA_UF AS F_MONTO_COTIZACION_PACTADA,\n",
    "        cc.F_MONTO_COTIZ_PACTADA_GES,\n",
    "        (cc.F_PRECIO_PLAN_UF + cc.F_MONTO_COTIZ_PACTADA_GES) AS F_TOTAL_PLAN_GES,\n",
    "        cc.F_FACTOR_GRUPO_FAMILIAR,\n",
    "        cc.F_NUMERO_DE_BENEFICIARIOS,\n",
    "        cc.DS_COMUNA,\n",
    "        pp.ID_CODIGO_COMERCIAL,\n",
    "        pp.ID_TIPO_PLAN,\n",
    "        (cc.F_MONTO_COTIZ_PACTADA_GES * 37800 + cc.F_VALOR_BASE_PLAN_UF * cc.F_FACTOR_GRUPO_FAMILIAR) AS pactado_plan_ges,\n",
    "        clv.Tipificacion,\n",
    "        clv.SIGNO\n",
    "    FROM \n",
    "        integra.BT_CON_CONTRATO cc\n",
    "    JOIN\n",
    "        integra.BT_PRO_PRODUCTOS pp\n",
    "    ON\n",
    "        cc.ID_CORRELATIVO_PLAN = pp.ID_CORRELATIVO\n",
    "        AND cc.ID_FECHA_PROCESO = pp.ID_FECHA_PROCESO\n",
    "    LEFT JOIN\n",
    "        DWH_CONSALUD.integra.GI_CLV clv\n",
    "    ON\n",
    "        cc.ID_FOLIO_CONTRATO = clv.Folio\n",
    "        AND cc.ID_FECHA_PROCESO = clv.Fecha_Proceso\n",
    "    WHERE \n",
    "        cc.ID_FECHA_PROCESO = {Fecha_proceso}\n",
    "        AND cc.ID_VIGENCIA_SUSCRIPCION = 1 \n",
    "        AND cc.ID_CODIGO_TIPO_AFILIADO <> 2\n",
    "),\n",
    "expseghosp AS (\n",
    "    SELECT\n",
    "        ExpuestosSegmento.*,\n",
    "        COALESCE(SUM(DW_TARIF_HOSPITALARIO.F_NRO_SESIONES), 0) AS Suma_Monto_Prestacion_HOSPITALARIO,\n",
    "        COALESCE(SUM(DW_TARIF_HOSPITALARIO.F_MONTO_ISAPRE), 0) AS Suma_Monto_Isapre_HOSPITALARIO,\n",
    "        DW_TARIF_HOSPITALARIO.ID_RUT_PRESTADOR\n",
    "    FROM\n",
    "        ExpuestosSegmento\n",
    "    LEFT JOIN\n",
    "        DWH_CONSALUD.integra.DW_TARIF_HOSPITALARIO\n",
    "    ON\n",
    "        ExpuestosSegmento.ID_FOLIO_CONTRATO = DW_TARIF_HOSPITALARIO.ID_FOLIO_AFILIADO\n",
    "    GROUP BY\n",
    "        ExpuestosSegmento.ID_FOLIO_CONTRATO,\n",
    "        ExpuestosSegmento.ID_CORRELATIVO_PLAN,\n",
    "        ExpuestosSegmento.F_VALOR_BASE_PLAN,\n",
    "        ExpuestosSegmento.F_PRECIO_PLAN,\n",
    "        ExpuestosSegmento.F_RENTA_IMPONIBLE_AFILIADO,\n",
    "        ExpuestosSegmento.F_MONTO_COTIZACION_PACTADA,\n",
    "        ExpuestosSegmento.F_MONTO_COTIZ_PACTADA_GES,\n",
    "        ExpuestosSegmento.F_FACTOR_GRUPO_FAMILIAR,\n",
    "        ExpuestosSegmento.F_NUMERO_DE_BENEFICIARIOS,\n",
    "        ExpuestosSegmento.ID_CODIGO_COMERCIAL,\n",
    "        ExpuestosSegmento.ID_TIPO_PLAN,\n",
    "        ExpuestosSegmento.pactado_plan_ges,\n",
    "        DW_TARIF_HOSPITALARIO.ID_RUT_PRESTADOR,\n",
    "        ExpuestosSegmento.Tipificacion,\n",
    "        ExpuestosSegmento.SIGNO,\n",
    "        ExpuestosSegmento.DS_COMUNA\n",
    "),\n",
    "top3 AS (\n",
    "    SELECT \n",
    "        *,\n",
    "        ROW_NUMBER() OVER (PARTITION BY ID_FOLIO_CONTRATO ORDER BY Suma_Monto_Prestacion_HOSPITALARIO DESC) AS Rank_RUT_Prestador\n",
    "    FROM \n",
    "        expseghosp\n",
    ")\n",
    "SELECT \n",
    "    top3.ID_FOLIO_CONTRATO,\n",
    "    top3.DS_COMUNA,\n",
    "    (COALESCE(top3.Tipificacion, '0') || '-' || top3.SIGNO) AS Tipificacion_Signo,\n",
    "    MAX(top3.F_VALOR_BASE_PLAN) AS F_VALOR_BASE_PLAN,\n",
    "    MAX(top3.F_PRECIO_PLAN) AS F_PRECIO_PLAN,\n",
    "    MAX(top3.F_RENTA_IMPONIBLE_AFILIADO) AS F_RENTA_IMPONIBLE_AFILIADO,\n",
    "    MAX(top3.F_MONTO_COTIZACION_PACTADA) AS F_MONTO_COTIZACION_PACTADA,\n",
    "    MAX(top3.F_MONTO_COTIZ_PACTADA_GES) AS F_MONTO_COTIZ_PACTADA_GES,\n",
    "    MAX(top3.F_TOTAL_PLAN_GES) AS F_TOTAL_PLAN_GES,\n",
    "    MAX(top3.F_FACTOR_GRUPO_FAMILIAR) AS F_FACTOR_GRUPO_FAMILIAR,\n",
    "    MAX(top3.F_NUMERO_DE_BENEFICIARIOS) AS F_CANT_BENEFICIARIOS_BENEF,\n",
    "    MAX(top3.ID_CODIGO_COMERCIAL) AS ID_CODIGO_COMERCIAL,\n",
    "    MAX(CASE WHEN top3.Rank_RUT_Prestador = 1 THEN bt.DS_NOMBRE_FANTASIA END) AS preferido1_hosp,\n",
    "    MAX(CASE WHEN top3.Rank_RUT_Prestador = 2 THEN bt.DS_NOMBRE_FANTASIA END) AS preferido2_hosp,\n",
    "    MAX(CASE WHEN top3.Rank_RUT_Prestador = 3 THEN bt.DS_NOMBRE_FANTASIA END) AS preferido3_hosp\n",
    "FROM \n",
    "    top3\n",
    "LEFT JOIN \n",
    "   integra.LK_PRO_GRUPO_CONVENIOS AS bt ON top3.ID_RUT_PRESTADOR = bt.ID_RUT_PRESTADOR\n",
    "WHERE \n",
    "    top3.Rank_RUT_Prestador <= 3\n",
    "GROUP BY \n",
    "    top3.ID_FOLIO_CONTRATO, \n",
    "    top3.Tipificacion,\n",
    "    top3.SIGNO,\n",
    "    top3.DS_COMUNA,\n",
    "    top3.ID_TIPO_PLAN\n",
    "\"\"\",con)"
   ]
  },
  {
   "cell_type": "markdown",
   "metadata": {},
   "source": [
    "### 4.2 Factor de riesgo 343"
   ]
  },
  {
   "cell_type": "code",
   "execution_count": 6,
   "metadata": {},
   "outputs": [
    {
     "name": "stderr",
     "output_type": "stream",
     "text": [
      "C:\\Users\\cgarciaa\\AppData\\Local\\Temp\\ipykernel_18372\\1213219486.py:1: UserWarning: pandas only supports SQLAlchemy connectable (engine/connection) or database string URI or sqlite3 DBAPI2 connection. Other DBAPI2 objects are not tested. Please consider using SQLAlchemy.\n",
      "  factor_riesgo_343=pd.read_sql(f\"\"\"\n"
     ]
    }
   ],
   "source": [
    "factor_riesgo_343=pd.read_sql(f\"\"\"\n",
    "SELECT\n",
    "    c.ID_FOLIO_CONTRATO,\n",
    "    SUM(fr.FR) AS Suma_FR\n",
    "FROM \n",
    "    DWH_CONSALUD.integra.BT_CON_BENEFCONTRATO c\n",
    "LEFT JOIN \n",
    "    integra.DW_GI_DICCIONARIO_FOLIO d\n",
    "ON \n",
    "    c.ID_FOLIO_CONTRATO = d.FOLIO \n",
    "LEFT JOIN \n",
    "    (SELECT 'COTI' AS TIPO_COTIZANTE, '0-2A' AS RANGO_EDAD, 0 AS EDAD, 0 AS FR UNION ALL\n",
    "     SELECT 'COTI', '2-5A', 2, 0.6 UNION ALL\n",
    "     SELECT 'COTI', '5-10A', 5, 0.6 UNION ALL\n",
    "     SELECT 'COTI', '10-15A', 10, 0.6 UNION ALL\n",
    "     SELECT 'COTI', '15-20A', 15, 0.6 UNION ALL\n",
    "     SELECT 'COTI', '20-25A', 20, 0.9 UNION ALL\n",
    "     SELECT 'COTI', '25-30A', 25, 1.0 UNION ALL\n",
    "     SELECT 'COTI', '30-35A', 30, 1.0 UNION ALL\n",
    "     SELECT 'COTI', '35-40A', 35, 1.3 UNION ALL\n",
    "     SELECT 'COTI', '40-45A', 40, 1.3 UNION ALL\n",
    "     SELECT 'COTI', '45-50A', 45, 1.4 UNION ALL\n",
    "     SELECT 'COTI', '50-55A', 50, 1.4 UNION ALL\n",
    "     SELECT 'COTI', '55-60A', 55, 2.0 UNION ALL\n",
    "     SELECT 'COTI', '60-65A', 60, 2.0 UNION ALL\n",
    "     SELECT 'COTI', '65-70A', 65, 2.4 UNION ALL\n",
    "     SELECT 'COTI', '70-75A', 70, 2.4 UNION ALL\n",
    "     SELECT 'COTI', '75-80A', 75, 2.4 UNION ALL\n",
    "     SELECT 'COTI', '>=80', 80, 2.4 UNION ALL\n",
    "     SELECT 'CARGA', '0-2A', 0, 0 UNION ALL\n",
    "     SELECT 'CARGA', '2-5A', 2, 0.6 UNION ALL\n",
    "     SELECT 'CARGA', '5-10A', 5, 0.6 UNION ALL\n",
    "     SELECT 'CARGA', '10-15A', 10, 0.6 UNION ALL\n",
    "     SELECT 'CARGA', '15-20A', 15, 0.6 UNION ALL\n",
    "     SELECT 'CARGA', '20-25A', 20, 0.7 UNION ALL\n",
    "     SELECT 'CARGA', '25-30A', 25, 0.7 UNION ALL\n",
    "     SELECT 'CARGA', '30-35A', 30, 0.7 UNION ALL\n",
    "     SELECT 'CARGA', '35-40A', 35, 0.9 UNION ALL\n",
    "     SELECT 'CARGA', '40-45A', 40, 0.9 UNION ALL\n",
    "     SELECT 'CARGA', '45-50A', 45, 1.0 UNION ALL\n",
    "     SELECT 'CARGA', '50-55A', 50, 1.0 UNION ALL\n",
    "     SELECT 'CARGA', '55-60A', 55, 1.4 UNION ALL\n",
    "     SELECT 'CARGA', '60-65A', 60, 1.4 UNION ALL\n",
    "     SELECT 'CARGA', '65-70A', 65, 2.2 UNION ALL\n",
    "     SELECT 'CARGA', '70-75A', 70, 2.2 UNION ALL\n",
    "     SELECT 'CARGA', '75-80A', 75, 2.2 UNION ALL\n",
    "     SELECT 'CARGA', '>=80', 80, 2.2) fr\n",
    "ON \n",
    "    CASE \n",
    "        WHEN c.ID_CODIGO_CARGA = 0 THEN 'COTI'\n",
    "        ELSE 'CARGA'\n",
    "    END = fr.TIPO_COTIZANTE\n",
    "    AND \n",
    "    CASE \n",
    "        WHEN c.ID_EDAD_BENEF >= 0 AND c.ID_EDAD_BENEF < 2 THEN '0-2A'\n",
    "        WHEN c.ID_EDAD_BENEF >= 2 AND c.ID_EDAD_BENEF < 5 THEN '2-5A'\n",
    "        WHEN c.ID_EDAD_BENEF >= 5 AND c.ID_EDAD_BENEF < 10 THEN '5-10A'\n",
    "        WHEN c.ID_EDAD_BENEF >= 10 AND c.ID_EDAD_BENEF < 15 THEN '10-15A'\n",
    "        WHEN c.ID_EDAD_BENEF >= 15 AND c.ID_EDAD_BENEF < 20 THEN '15-20A'\n",
    "        WHEN c.ID_EDAD_BENEF >= 20 AND c.ID_EDAD_BENEF < 25 THEN '20-25A'\n",
    "        WHEN c.ID_EDAD_BENEF >= 25 AND c.ID_EDAD_BENEF < 30 THEN '25-30A'\n",
    "        WHEN c.ID_EDAD_BENEF >= 30 AND c.ID_EDAD_BENEF < 35 THEN '30-35A'\n",
    "        WHEN c.ID_EDAD_BENEF >= 35 AND c.ID_EDAD_BENEF < 40 THEN '35-40A'\n",
    "        WHEN c.ID_EDAD_BENEF >= 40 AND c.ID_EDAD_BENEF < 45 THEN '40-45A'\n",
    "        WHEN c.ID_EDAD_BENEF >= 45 AND c.ID_EDAD_BENEF < 50 THEN '45-50A'\n",
    "        WHEN c.ID_EDAD_BENEF >= 50 AND c.ID_EDAD_BENEF < 55 THEN '50-55A'\n",
    "        WHEN c.ID_EDAD_BENEF >= 55 AND c.ID_EDAD_BENEF < 60 THEN '55-60A'\n",
    "        WHEN c.ID_EDAD_BENEF >= 60 AND c.ID_EDAD_BENEF < 65 THEN '60-65A'\n",
    "        WHEN c.ID_EDAD_BENEF >= 65 AND c.ID_EDAD_BENEF < 70 THEN '65-70A'\n",
    "        WHEN c.ID_EDAD_BENEF >= 70 AND c.ID_EDAD_BENEF < 75 THEN '70-75A'\n",
    "        WHEN c.ID_EDAD_BENEF >= 75 AND c.ID_EDAD_BENEF < 80 THEN '75-80A'\n",
    "        WHEN c.ID_EDAD_BENEF >= 80 THEN '>=80'\n",
    "        ELSE 'Sin rango'\n",
    "    END = fr.RANGO_EDAD\n",
    "WHERE \n",
    "    ID_VIGENCIA_SUSCRIPCION = 1 \n",
    "    AND ID_FECHA_PROCESO = {Fecha_proceso}\n",
    "GROUP BY \n",
    "    c.ID_FOLIO_CONTRATO\n",
    "\"\"\",con)"
   ]
  },
  {
   "cell_type": "code",
   "execution_count": 7,
   "metadata": {},
   "outputs": [],
   "source": [
    "Informacion_afiliados=psql.sqldf(\"\"\"\n",
    "SELECT \n",
    "    a.*,\n",
    "    b.Suma_FR AS Factor_riesgo_343\n",
    "FROM Informacion_afiliados a\n",
    "LEFT JOIN factor_riesgo_343 b\n",
    "ON a.ID_FOLIO_CONTRATO=b.ID_FOLIO_CONTRATO\n",
    "\"\"\")"
   ]
  },
  {
   "cell_type": "markdown",
   "metadata": {},
   "source": [
    "### 4.3 Diccionario hash_folio"
   ]
  },
  {
   "cell_type": "code",
   "execution_count": 8,
   "metadata": {},
   "outputs": [
    {
     "name": "stderr",
     "output_type": "stream",
     "text": [
      "C:\\Users\\cgarciaa\\AppData\\Local\\Temp\\ipykernel_18372\\2776950566.py:1: UserWarning: pandas only supports SQLAlchemy connectable (engine/connection) or database string URI or sqlite3 DBAPI2 connection. Other DBAPI2 objects are not tested. Please consider using SQLAlchemy.\n",
      "  diccionario_hash_folio=pd.read_sql(\"\"\"SELECT d.*\n"
     ]
    }
   ],
   "source": [
    "diccionario_hash_folio=pd.read_sql(\"\"\"SELECT d.* \n",
    "    FROM DWH_CONSALUD.integra.DW_GI_DICCIONARIO_FOLIO d\n",
    "    LEFT JOIN integra.BT_CON_CONTRATO cc\n",
    "ON cc.ID_FOLIO_CONTRATO=d.FOLIO\n",
    "WHERE \n",
    "\tcc.ID_FECHA_PROCESO = 202403\n",
    "\tAND cc.ID_VIGENCIA_SUSCRIPCION = 1 \n",
    "\tAND cc.ID_CODIGO_TIPO_AFILIADO <> 2\"\"\", con)"
   ]
  },
  {
   "cell_type": "markdown",
   "metadata": {},
   "source": [
    "### 4.4 Diccionarios convenios"
   ]
  },
  {
   "cell_type": "code",
   "execution_count": 9,
   "metadata": {},
   "outputs": [
    {
     "name": "stderr",
     "output_type": "stream",
     "text": [
      "C:\\Users\\cgarciaa\\AppData\\Local\\Temp\\ipykernel_18372\\2700304122.py:1: UserWarning: pandas only supports SQLAlchemy connectable (engine/connection) or database string URI or sqlite3 DBAPI2 connection. Other DBAPI2 objects are not tested. Please consider using SQLAlchemy.\n",
      "  diccionario_convenios=pd.read_sql(\"\"\"\n"
     ]
    }
   ],
   "source": [
    "diccionario_convenios=pd.read_sql(\"\"\"\n",
    "SELECT \n",
    "    ID_RUT_PRESTADOR,\n",
    "    DS_NOMBRE_FANTASIA,\n",
    "    DS_GRUPO \n",
    "FROM integra.LK_PRO_GRUPO_CONVENIOS\"\"\", con)"
   ]
  },
  {
   "cell_type": "markdown",
   "metadata": {},
   "source": [
    "### 4.5 Prestador preferido ambulatorio"
   ]
  },
  {
   "cell_type": "code",
   "execution_count": 10,
   "metadata": {},
   "outputs": [],
   "source": [
    "# Apertura prestadores preferidos ambulatorios - consultas\n",
    "ranking_amb_consulta = pd.read_csv(\"C:/Users/cgarciaa/Desktop/Proyecto competitividad-scoring/Prestador preferido/202403/Prestador preferido amb consultas 202403.csv\", sep=\";\")\n",
    "ranking_amb_consulta = pd.merge(ranking_amb_consulta, diccionario_hash_folio, left_on='folio', right_on='HASH_FOLIO', how='left')\n",
    "ranking_amb_consulta = pd.merge(ranking_amb_consulta, diccionario_convenios, left_on='rut_prestador', right_on='ID_RUT_PRESTADOR', how='left')\n",
    "ranking_amb_consulta = ranking_amb_consulta.dropna(subset=['ID_RUT_PRESTADOR'])\n",
    "ranking_amb_consulta['DS_GRUPO'] = pd.Categorical(ranking_amb_consulta['DS_GRUPO'], categories=['G1', 'G2', 'G3', 'G4', 'G5', 'G6'], ordered=True)\n",
    "ranking_amb_consulta = ranking_amb_consulta.sort_values(by=['FOLIO', 'DS_GRUPO'])\n",
    "ranking_amb_consulta = ranking_amb_consulta.drop(columns=['folio'])\n",
    "ranking_amb_consulta = ranking_amb_consulta.drop_duplicates(subset=['FOLIO'])\n",
    "ranking_amb_consulta = ranking_amb_consulta[['FOLIO', 'DS_NOMBRE_FANTASIA']]\n",
    "# Apertura prestadores preferidos - examenes\n",
    "ranking_amb_examenes = pd.read_csv(\"C:/Users/cgarciaa/Desktop/Proyecto competitividad-scoring/Prestador preferido/202403/Prestador preferido amb examenes 202403.csv\", sep=\";\")\n",
    "ranking_amb_examenes = pd.merge(ranking_amb_examenes, diccionario_hash_folio, left_on='folio', right_on='HASH_FOLIO', how='left')\n",
    "ranking_amb_examenes = pd.merge(ranking_amb_examenes, diccionario_convenios, left_on='rut_prestador', right_on='ID_RUT_PRESTADOR', how='left')\n",
    "ranking_amb_examenes = ranking_amb_examenes.dropna(subset=['ID_RUT_PRESTADOR'])\n",
    "ranking_amb_examenes['DS_GRUPO'] = pd.Categorical(ranking_amb_examenes['DS_GRUPO'], categories=['G1', 'G2', 'G3', 'G4', 'G5', 'G6'], ordered=True)\n",
    "ranking_amb_examenes = ranking_amb_examenes.sort_values(by=['FOLIO', 'DS_GRUPO'])\n",
    "ranking_amb_examenes = ranking_amb_examenes.drop(columns=['folio'])\n",
    "ranking_amb_examenes = ranking_amb_examenes.drop_duplicates(subset=['FOLIO'])\n",
    "\n",
    "# Apertura prestadores preferidos - imagenología\n",
    "ranking_amb_imagenologia = pd.read_csv(\"C:/Users/cgarciaa/Desktop/Proyecto competitividad-scoring/Prestador preferido/202403/Prestador preferido amb imagenologia 202403.csv\", sep=\";\")\n",
    "ranking_amb_imagenologia = pd.merge(ranking_amb_imagenologia, diccionario_hash_folio, left_on='folio', right_on='HASH_FOLIO', how='left')\n",
    "ranking_amb_imagenologia = pd.merge(ranking_amb_imagenologia, diccionario_convenios, left_on='rut_prestador', right_on='ID_RUT_PRESTADOR', how='left')\n",
    "ranking_amb_imagenologia = ranking_amb_imagenologia.dropna(subset=['ID_RUT_PRESTADOR'])\n",
    "ranking_amb_imagenologia['DS_GRUPO'] = pd.Categorical(ranking_amb_imagenologia['DS_GRUPO'], categories=['G1', 'G2', 'G3', 'G4', 'G5', 'G6'], ordered=True)\n",
    "ranking_amb_imagenologia = ranking_amb_imagenologia.sort_values(by=['FOLIO', 'DS_GRUPO'])\n",
    "ranking_amb_imagenologia = ranking_amb_imagenologia.drop(columns=['folio'])\n",
    "ranking_amb_imagenologia = ranking_amb_imagenologia.drop_duplicates(subset=['FOLIO'])"
   ]
  },
  {
   "cell_type": "code",
   "execution_count": 11,
   "metadata": {},
   "outputs": [],
   "source": [
    "# Función para agregar prestador preferido\n",
    "def agregacion_prestador_preferido(Informacion_afiliados, ranking_prestador_preferido, tipo_prestador):\n",
    "    query = f\"\"\"\n",
    "    SELECT \n",
    "        a.*,\n",
    "        b.DS_NOMBRE_FANTASIA as {tipo_prestador}\n",
    "    FROM Informacion_afiliados a\n",
    "    LEFT JOIN ranking_prestador_preferido b\n",
    "    ON a.ID_FOLIO_CONTRATO = b.FOLIO\n",
    "    \"\"\"\n",
    "    return psql.sqldf(query, locals())\n",
    "# Agregar prestador preferido de consultas\n",
    "Informacion_afiliados = agregacion_prestador_preferido(Informacion_afiliados, ranking_amb_consulta, 'preferido_consulta')\n",
    "# Agregar prestador preferido de exámenes\n",
    "Informacion_afiliados = agregacion_prestador_preferido(Informacion_afiliados, ranking_amb_examenes, 'preferido_examenes')\n",
    "# Agregar prestador preferido de imagenología\n",
    "Informacion_afiliados = agregacion_prestador_preferido(Informacion_afiliados, ranking_amb_imagenologia, 'preferido_imagenologia')"
   ]
  },
  {
   "cell_type": "markdown",
   "metadata": {},
   "source": [
    "### 4.6 score total planes stock"
   ]
  },
  {
   "cell_type": "code",
   "execution_count": 12,
   "metadata": {},
   "outputs": [
    {
     "name": "stderr",
     "output_type": "stream",
     "text": [
      "C:\\Users\\cgarciaa\\AppData\\Local\\Temp\\ipykernel_18372\\3766393283.py:1: UserWarning: pandas only supports SQLAlchemy connectable (engine/connection) or database string URI or sqlite3 DBAPI2 connection. Other DBAPI2 objects are not tested. Please consider using SQLAlchemy.\n",
      "  score_total_planes_stock=pd.read_sql(\"\"\"\n"
     ]
    }
   ],
   "source": [
    "score_total_planes_stock=pd.read_sql(\"\"\"\n",
    "SELECT ID_CODIGO_COMERCIAL,\n",
    "\t\tF_SCORE_HOSP\n",
    "FROM DWH_CONSALUD.integra.DW_PRO_SCORE_DETALLE\n",
    "GROUP BY ID_CODIGO_COMERCIAL,\n",
    "\t\t  F_SCORE_HOSP\"\"\", con)\n",
    "\n",
    "Informacion_afiliados['ID_CODIGO_COMERCIAL'] = Informacion_afiliados['ID_CODIGO_COMERCIAL'].str.strip()\n",
    "\n",
    "Informacion_afiliados=psql.sqldf(\"\"\"\n",
    "SELECT a.*,\n",
    "       b.F_SCORE_HOSP AS score_total_plan_actual\n",
    "FROM Informacion_afiliados a\n",
    "LEFT JOIN score_total_planes_stock b\n",
    "ON a.ID_CODIGO_COMERCIAL=b.ID_CODIGO_COMERCIAL\"\"\")"
   ]
  },
  {
   "cell_type": "markdown",
   "metadata": {},
   "source": [
    "### 4.7 score prestador planes stock"
   ]
  },
  {
   "cell_type": "code",
   "execution_count": 13,
   "metadata": {},
   "outputs": [
    {
     "name": "stderr",
     "output_type": "stream",
     "text": [
      "C:\\Users\\cgarciaa\\AppData\\Local\\Temp\\ipykernel_18372\\2096121293.py:1: UserWarning: pandas only supports SQLAlchemy connectable (engine/connection) or database string URI or sqlite3 DBAPI2 connection. Other DBAPI2 objects are not tested. Please consider using SQLAlchemy.\n",
      "  score_prestador_planes_stock=pd.read_sql(\"\"\"\n"
     ]
    }
   ],
   "source": [
    "score_prestador_planes_stock=pd.read_sql(\"\"\"\n",
    "    SELECT \n",
    "        ID_CODIGO_COMERCIAL,\n",
    "        DS_NOMBRE_FANTASIA,\n",
    "        F_SCORE_PRESTADOR_HOSP,\n",
    "        F_SCORE_HOSP\n",
    "    FROM DWH_CONSALUD.integra.DW_PRO_SCORE_DETALLE\n",
    "    WHERE DS_NOMBRE_FANTASIA != '' AND\n",
    "          F_SCORE_PRESTADOR_HOSP != 0\n",
    "    GROUP BY \n",
    "        ID_CODIGO_COMERCIAL,\n",
    "        DS_NOMBRE_FANTASIA,\n",
    "        F_SCORE_PRESTADOR_HOSP,\n",
    "        F_SCORE_HOSP\"\"\", con)"
   ]
  },
  {
   "cell_type": "code",
   "execution_count": 14,
   "metadata": {},
   "outputs": [],
   "source": [
    "def calcula_score_total(prestador_preferido, nombre_columna_valor_score):\n",
    "    query = f\"\"\"\n",
    "        SELECT\n",
    "            a.*,\n",
    "            b.F_SCORE_PRESTADOR_HOSP AS {nombre_columna_valor_score}\n",
    "        FROM \n",
    "            Informacion_afiliados a\n",
    "        LEFT JOIN\n",
    "            score_prestador_planes_stock b\n",
    "        ON a.{prestador_preferido} = b.DS_NOMBRE_FANTASIA AND\n",
    "           a.ID_CODIGO_COMERCIAL = b.ID_CODIGO_COMERCIAL\n",
    "    \"\"\"\n",
    "    consulta = psql.sqldf(query, globals())\n",
    "    return consulta\n",
    "\n",
    "# Llamar a la función\n",
    "Informacion_afiliados = calcula_score_total('preferido1_hosp', 'score_pref1')\n",
    "Informacion_afiliados = calcula_score_total('preferido2_hosp', 'score_pref2')\n",
    "Informacion_afiliados = calcula_score_total('preferido3_hosp', 'score_pref3')\n",
    "Informacion_afiliados = calcula_score_total('preferido_consulta', 'score_pref_consulta')\n",
    "Informacion_afiliados = calcula_score_total('preferido_examenes', 'score_pref_examenes')\n",
    "Informacion_afiliados = calcula_score_total('preferido_imagenologia', 'score_pref_imagenologia')"
   ]
  },
  {
   "cell_type": "markdown",
   "metadata": {},
   "source": [
    "### 4.8 Diccionario zona"
   ]
  },
  {
   "cell_type": "code",
   "execution_count": 15,
   "metadata": {},
   "outputs": [],
   "source": [
    "diccionario_zona=pd.read_csv(\"C:/Users/cgarciaa/Desktop/Proyecto competitividad-scoring/Diccionarios/diccionario sucursal.csv\", sep=';')\n",
    "Informacion_afiliados['DS_COMUNA'] = Informacion_afiliados['DS_COMUNA'].str.rstrip()\n",
    "Informacion_afiliados=psql.sqldf(\"\"\"\n",
    "SELECT \n",
    "    a.*,\n",
    "    b.Ds_Zona\n",
    "FROM Informacion_afiliados a\n",
    "LEFT JOIN diccionario_zona b\n",
    "on a.DS_COMUNA=b.Ds_comuna\n",
    "\"\"\")"
   ]
  },
  {
   "cell_type": "markdown",
   "metadata": {},
   "source": [
    "### 4.9 Pactado simulacion 202403"
   ]
  },
  {
   "cell_type": "code",
   "execution_count": 16,
   "metadata": {},
   "outputs": [],
   "source": [
    "pactado_simulacion_202403=pd.read_csv(\"C:/Users/cgarciaa/Desktop/Pactado_simulacion_202403.csv\", sep=';')\n",
    "\n",
    "Informacion_afiliados=psql.sqldf(\"\"\"\n",
    "    SELECT \n",
    "        a.*,\n",
    "        b.Pactado_simulacion\n",
    "    FROM\n",
    "        Informacion_afiliados a\n",
    "    LEFT JOIN \n",
    "        pactado_simulacion_202403 b\n",
    "    ON \n",
    "        a.ID_FOLIO_CONTRATO=b.FOLIO\n",
    "\"\"\")"
   ]
  },
  {
   "cell_type": "markdown",
   "metadata": {},
   "source": [
    "### 4.10 Tipificacion gasto clv"
   ]
  },
  {
   "cell_type": "code",
   "execution_count": 17,
   "metadata": {},
   "outputs": [],
   "source": [
    "gasto_clv=pd.read_csv(\"C:/Users/cgarciaa/Desktop/clv_tipificacion.csv\", sep=',')\n",
    "gasto_clv=psql.sqldf(\"\"\"\n",
    "    SELECT b.FOLIO,\n",
    "           CONCAT(a.tipificacion, '-', a.signo) AS tipificacion_signo\n",
    "    FROM gasto_clv a\n",
    "    LEFT JOIN diccionario_hash_folio b\n",
    "    ON a.hash_folio=b.HASH_FOLIO\"\"\")\n",
    "Informacion_afiliados = Informacion_afiliados.drop(columns=['Tipificacion_Signo'])\n",
    "Informacion_afiliados=psql.sqldf(\"\"\"\n",
    "    SELECT a.*,\n",
    "           b.tipificacion_signo\n",
    "    FROM Informacion_afiliados a\n",
    "    LEFT JOIN gasto_clv b\n",
    "    ON a.ID_FOLIO_CONTRATO=b.FOLIO\"\"\")"
   ]
  },
  {
   "cell_type": "markdown",
   "metadata": {},
   "source": [
    "### 4.11 Marca retenible"
   ]
  },
  {
   "cell_type": "code",
   "execution_count": 18,
   "metadata": {},
   "outputs": [],
   "source": [
    "marca_retenible=pd.read_csv(\"C:/Users/cgarciaa/Desktop/CARTERA_JUNIO_CON_FILTROS_RETENCION_MARCAS_ABIERTAS.csv\", sep=';')\n",
    "Informacion_afiliados=psql.sqldf(\"\"\"\n",
    "    SELECT a.*,\n",
    "           b.RETENIBLE\n",
    "    FROM Informacion_afiliados a\n",
    "    LEFT JOIN marca_retenible b\n",
    "    ON a.ID_FOLIO_CONTRATO=b.ID_FOLIO_CONTRATO\"\"\")\n",
    "Informacion_afiliados['RETENIBLE'] = Informacion_afiliados['RETENIBLE'].fillna(0)"
   ]
  },
  {
   "cell_type": "markdown",
   "metadata": {},
   "source": [
    "### 4.12 Score total planes comercializables"
   ]
  },
  {
   "cell_type": "code",
   "execution_count": 19,
   "metadata": {},
   "outputs": [],
   "source": [
    "lista_comercializables = pd.read_csv(\"C:/Users/cgarciaa/Desktop/planes comercializables julio 2024.csv\", sep=';', encoding='latin-1')\n",
    "lista_comercializables.rename(columns={'CÓDIGO COMERCIAL': 'codigo_comercial'}, inplace=True)\n",
    "lista_comercializables.rename(columns={'VALOR BASE': 'Valor_base'}, inplace=True)\n",
    "codigo_comercial_list = lista_comercializables['codigo_comercial'].tolist()\n",
    "\n",
    "# Convertir la lista de códigos comerciales en un formato adecuado para la consulta SQL\n",
    "codigo_comercial_list_str = tuple(codigo_comercial_list)\n",
    "\n",
    "score_total_planes_comercializables_consalud = psql.sqldf(f\"\"\"\n",
    "    SELECT \n",
    "        a.*,\n",
    "        b.Valor_base,\n",
    "        b.ZONA,\n",
    "        CASE \n",
    "            WHEN a.ID_CODIGO_COMERCIAL LIKE '13-%' THEN 'preferente'\n",
    "            WHEN a.ID_CODIGO_COMERCIAL LIKE '14-%' THEN 'cerrado'\n",
    "            WHEN a.ID_CODIGO_COMERCIAL LIKE '15-%' THEN 'libre eleccion'\n",
    "            WHEN a.ID_CODIGO_COMERCIAL LIKE '63-%' THEN 'empresas'\n",
    "            ELSE 'otro'\n",
    "        END AS tipo_plan,\n",
    "        CASE \n",
    "            WHEN SUBSTR(a.ID_CODIGO_COMERCIAL, 4, 3) = 'RET' THEN 'retencion'\n",
    "            WHEN SUBSTR(a.ID_CODIGO_COMERCIAL, 4, 4) = 'MANT' THEN 'mantencion'\n",
    "            ELSE 'normal'\n",
    "        END AS marca_ret_mant\n",
    "    FROM score_total_planes_stock a\n",
    "    LEFT JOIN lista_comercializables b\n",
    "    ON a.ID_CODIGO_COMERCIAL = b.codigo_comercial\n",
    "    WHERE a.ID_CODIGO_COMERCIAL in {codigo_comercial_list_str}\n",
    "      AND a.ID_CODIGO_COMERCIAL NOT LIKE '63-%'\n",
    "      AND SUBSTR(a.ID_CODIGO_COMERCIAL, 4, 4) != 'MANT'\n",
    "\"\"\", globals())"
   ]
  },
  {
   "cell_type": "code",
   "execution_count": 20,
   "metadata": {},
   "outputs": [],
   "source": [
    "data = {\n",
    "    'ID_CODIGO_COMERCIAL': ['EO1', 'nuevo_ret_s', 'nuevo_ret_c', 'nuevo_ret_n', 'nuevo_ret_o', 'nuevo_ret_sur','EO05', 'nuevo_ret_2_s', 'nuevo_ret_2_c', 'nuevo_ret_2_n', 'nuevo_ret_2_o', 'nuevo_ret_2_sur', 'N1'],\n",
    "    'F_SCORE_HOSP': [2.47, 2.06, 2.06, 2.06, 2.06, 2.06, \n",
    "                     2.47, 2.58, 2.58, 2.58, 2.58, 2.58, 3.28],\n",
    "    'Valor_base': [1.64, 1.34, 1.34, 1.34, 1.34, 1.34, 1.51, 1.45, 1.45, 1.45, 1.45, 1.45, 1.94],\n",
    "    'ZONA': ['SANTIAGO', 'SANTIAGO', 'CENTRO', 'NORTE', 'OCTAVA', 'SUR', \n",
    "             'SANTIAGO', 'SANTIAGO', 'CENTRO', 'NORTE', 'OCTAVA', 'SUR', 'NORTE'],\n",
    "    'tipo_plan': ['preferente', 'preferente', 'preferente', 'preferente', 'preferente', 'preferente', \n",
    "                  'preferente', 'preferente', 'preferente', 'preferente', 'preferente', 'preferente', 'preferente'],\n",
    "    'marca_ret_mant': ['normal', 'retencion', 'retencion', 'retencion', 'retencion', 'retencion',\n",
    "                       'normal', 'retencion', 'retencion', 'retencion', 'retencion', 'retencion', 'normal']\n",
    "}\n",
    "score_total_planes_comercializables_consalud_adicionales = pd.DataFrame(data)\n",
    "score_total_planes_comercializables_consalud = pd.concat([score_total_planes_comercializables_consalud, score_total_planes_comercializables_consalud_adicionales], axis=0)\n",
    "score_total_planes_comercializables_consalud.reset_index(drop=True, inplace=True)"
   ]
  },
  {
   "cell_type": "markdown",
   "metadata": {},
   "source": [
    "### 4.13 Score total planes comercializables competencia"
   ]
  },
  {
   "cell_type": "code",
   "execution_count": 21,
   "metadata": {},
   "outputs": [
    {
     "name": "stderr",
     "output_type": "stream",
     "text": [
      "C:\\Users\\cgarciaa\\AppData\\Local\\Temp\\ipykernel_18372\\1676729455.py:1: UserWarning: pandas only supports SQLAlchemy connectable (engine/connection) or database string URI or sqlite3 DBAPI2 connection. Other DBAPI2 objects are not tested. Please consider using SQLAlchemy.\n",
      "  score_total_planes_comercializables_competencia = pd.read_sql(\"\"\"\n"
     ]
    }
   ],
   "source": [
    "score_total_planes_comercializables_competencia = pd.read_sql(\"\"\"\n",
    "    SELECT \n",
    "        replace(ID_CODIGO_COMERCIAL,'Â','') AS ID_CODIGO_COMERCIAL,\n",
    "        F_SCORE_HOSP_PLAN,\n",
    "        F_GES,\n",
    "        F_VALOR_BASE,\n",
    "        DS_ZONA_COMERCIALIZACION,\n",
    "        DS_ISAPRE\n",
    "    FROM \n",
    "        DWH_CONSALUD.integra.DW_PRO_SCOR_INDUSTRIA\n",
    "    WHERE \n",
    "        ID_FECHA_TERMINO_COMERCIALIZACION = 0 \n",
    "        AND ID_CODIGO_COMERCIAL NOT IN ('BFDC230802', 'BFDC230803', 'BFDC230812', 'BFDC230822', 'BFDC230813', 'BFDC230823', 'BFDC230833')\n",
    "    GROUP BY \n",
    "        ID_CODIGO_COMERCIAL,\n",
    "        F_SCORE_HOSP_PLAN,\n",
    "        F_GES,\n",
    "        F_VALOR_BASE,\n",
    "        DS_ZONA_COMERCIALIZACION,\n",
    "        DS_ISAPRE\n",
    "\"\"\", con)"
   ]
  },
  {
   "cell_type": "markdown",
   "metadata": {},
   "source": [
    "### 4.14 Informacion afiliados resumida"
   ]
  },
  {
   "cell_type": "code",
   "execution_count": 22,
   "metadata": {},
   "outputs": [],
   "source": [
    "salida_afiliados=psql.sqldf(\"\"\"\n",
    "SELECT\n",
    "    ID_FOLIO_CONTRATO,\n",
    "    tipificacion_signo,\n",
    "    Ds_Zona,\n",
    "    F_VALOR_BASE_PLAN,\n",
    "    F_RENTA_IMPONIBLE_AFILIADO,\n",
    "    F_CANT_BENEFICIARIOS_BENEF,\n",
    "    ID_CODIGO_COMERCIAL,\n",
    "    Score_total_plan_actual,\n",
    "    Pactado_simulacion,\n",
    "    RETENIBLE\n",
    "FROM Informacion_afiliados\n",
    "\"\"\")"
   ]
  },
  {
   "cell_type": "markdown",
   "metadata": {},
   "source": [
    "### 4.15 Score prestador planes comercilizables consalud"
   ]
  },
  {
   "cell_type": "code",
   "execution_count": 23,
   "metadata": {},
   "outputs": [],
   "source": [
    "score_prestador_planes_comercializables_consalud = psql.sqldf(f\"\"\"\n",
    "    SELECT \n",
    "        a.*,\n",
    "        b.Valor_base,\n",
    "        b.ZONA,\n",
    "        b.tipo_plan_cobertura,\n",
    "        CASE \n",
    "            WHEN a.ID_CODIGO_COMERCIAL LIKE '13-%' THEN 'preferente'\n",
    "            WHEN a.ID_CODIGO_COMERCIAL LIKE '14-%' THEN 'cerrado'\n",
    "            WHEN a.ID_CODIGO_COMERCIAL LIKE '15-%' THEN 'libre eleccion'\n",
    "            WHEN a.ID_CODIGO_COMERCIAL LIKE '63-%' THEN 'empresas'\n",
    "            ELSE 'otro'\n",
    "        END AS tipo_plan,\n",
    "        CASE \n",
    "            WHEN SUBSTR(a.ID_CODIGO_COMERCIAL, 4, 3) = 'RET' THEN 'retencion'\n",
    "            WHEN SUBSTR(a.ID_CODIGO_COMERCIAL, 4, 4) = 'MANT' THEN 'mantencion'\n",
    "            ELSE 'normal'\n",
    "        END AS marca_ret_mant\n",
    "    FROM score_prestador_planes_stock a\n",
    "    LEFT JOIN lista_comercializables b\n",
    "    ON a.ID_CODIGO_COMERCIAL = b.codigo_comercial\n",
    "    WHERE a.ID_CODIGO_COMERCIAL in {codigo_comercial_list_str}\n",
    "      AND a.ID_CODIGO_COMERCIAL NOT LIKE '63-%'\n",
    "      AND SUBSTR(a.ID_CODIGO_COMERCIAL, 4, 4) != 'MANT'\n",
    "\"\"\", globals())\n",
    "\n",
    "score_planes_agregados=pd.read_csv(\"C:/Users/cgarciaa/Desktop/score_prestador_planes_agregados.csv\", sep=';')\n",
    "score_prestador_planes_comercializables_consalud = pd.concat([score_prestador_planes_comercializables_consalud, score_planes_agregados], axis=0)\n",
    "score_prestador_planes_comercializables_consalud.reset_index(drop=True, inplace=True)"
   ]
  },
  {
   "cell_type": "markdown",
   "metadata": {},
   "source": [
    "### 4.16 Score prestador planes comercializables competenica"
   ]
  },
  {
   "cell_type": "code",
   "execution_count": 24,
   "metadata": {},
   "outputs": [
    {
     "name": "stderr",
     "output_type": "stream",
     "text": [
      "C:\\Users\\cgarciaa\\AppData\\Local\\Temp\\ipykernel_18372\\3062620254.py:1: UserWarning: pandas only supports SQLAlchemy connectable (engine/connection) or database string URI or sqlite3 DBAPI2 connection. Other DBAPI2 objects are not tested. Please consider using SQLAlchemy.\n",
      "  score_prestador_planes_comercializables_competencia = pd.read_sql(\"\"\"\n"
     ]
    }
   ],
   "source": [
    "score_prestador_planes_comercializables_competencia = pd.read_sql(\"\"\"\n",
    "    SELECT \n",
    "        ID_CODIGO_COMERCIAL,\n",
    "        DS_NOMBRE_FANTASIA,\n",
    "        F_SCORE_HOSP_PRESTADOR,\n",
    "        F_SCORE_HOSP_PLAN,\n",
    "        F_GES,\n",
    "        F_VALOR_BASE,\n",
    "        DS_ZONA_COMERCIALIZACION,\n",
    "        DS_ISAPRE\n",
    "    FROM \n",
    "        DWH_CONSALUD.integra.DW_PRO_SCOR_INDUSTRIA\n",
    "    WHERE \n",
    "        ID_FECHA_TERMINO_COMERCIALIZACION = 0 \n",
    "        AND ID_CODIGO_COMERCIAL NOT IN ('BFDC230802', 'BFDC230803', 'BFDC230812', 'BFDC230822', 'BFDC230813', 'BFDC230823', 'BFDC230833')\n",
    "    GROUP BY \n",
    "        ID_CODIGO_COMERCIAL,\n",
    "        DS_NOMBRE_FANTASIA,\n",
    "        F_SCORE_HOSP_PRESTADOR,\n",
    "        F_SCORE_HOSP_PLAN,\n",
    "        F_GES,\n",
    "        F_VALOR_BASE,\n",
    "        DS_ZONA_COMERCIALIZACION,\n",
    "        DS_ISAPRE\n",
    "\"\"\", con)"
   ]
  },
  {
   "cell_type": "markdown",
   "metadata": {},
   "source": [
    "### 4.17 Beneficio adicional"
   ]
  },
  {
   "cell_type": "code",
   "execution_count": 25,
   "metadata": {},
   "outputs": [],
   "source": [
    "beneficio_adicional=pd.read_csv(\"C:/Users/cgarciaa/Desktop/Beneficio_Adicional_202403.csv\", sep=\";\")\n",
    "Informacion_afiliados=psql.sqldf(\"\"\"\n",
    "    SELECT \n",
    "        a.*,\n",
    "        b.PRECIO_BENEFICIO_ADICIONAL\n",
    "    FROM Informacion_afiliados a\n",
    "    LEFT JOIN beneficio_adicional b\n",
    "    ON a.ID_FOLIO_CONTRATO=b.FOLIO\n",
    "\"\"\")\n",
    "Informacion_afiliados['PRECIO_BENEFICIO_ADICIONAL'] = Informacion_afiliados['PRECIO_BENEFICIO_ADICIONAL'].fillna(0)"
   ]
  },
  {
   "cell_type": "markdown",
   "metadata": {},
   "source": [
    "### 4.18 Seleccion de prestador preferido unico"
   ]
  },
  {
   "cell_type": "code",
   "execution_count": 26,
   "metadata": {},
   "outputs": [],
   "source": [
    "Informacion_afiliados['prestador_preferido'] = Informacion_afiliados[['preferido1_hosp', 'preferido2_hosp', 'preferido3_hosp',\n",
    "                                'preferido_consulta', 'preferido_examenes', 'preferido_imagenologia']].bfill(axis=1).iloc[:, 0]\n",
    "Informacion_afiliados['score_preferido'] = np.select(\n",
    "    [\n",
    "        Informacion_afiliados['prestador_preferido'] == Informacion_afiliados['preferido1_hosp'],\n",
    "        Informacion_afiliados['prestador_preferido'] == Informacion_afiliados['preferido2_hosp'],\n",
    "        Informacion_afiliados['prestador_preferido'] == Informacion_afiliados['preferido3_hosp'],\n",
    "        Informacion_afiliados['prestador_preferido'] == Informacion_afiliados['preferido_consulta'],\n",
    "        Informacion_afiliados['prestador_preferido'] == Informacion_afiliados['preferido_examenes'],\n",
    "        Informacion_afiliados['prestador_preferido'] == Informacion_afiliados['preferido_imagenologia']\n",
    "    ],\n",
    "    [\n",
    "        Informacion_afiliados['score_pref1'],\n",
    "        Informacion_afiliados['score_pref2'],\n",
    "        Informacion_afiliados['score_pref3'],\n",
    "        Informacion_afiliados['score_pref_consulta'],\n",
    "        Informacion_afiliados['score_pref_examenes'],\n",
    "        Informacion_afiliados['score_pref_imagenologia']\n",
    "    ],\n",
    "    default=np.nan\n",
    ")\n",
    "Informacion_afiliados.drop(columns=['preferido1_hosp', 'preferido2_hosp', 'preferido3_hosp',\n",
    "                 'preferido_consulta', 'preferido_examenes', 'preferido_imagenologia',\n",
    "                 'score_pref1', 'score_pref2', 'score_pref3',\n",
    "                 'score_pref_consulta', 'score_pref_examenes', 'score_pref_imagenologia'], inplace=True)"
   ]
  },
  {
   "cell_type": "markdown",
   "metadata": {},
   "source": [
    "# 5. Busqueda por score total"
   ]
  },
  {
   "cell_type": "markdown",
   "metadata": {},
   "source": [
    "### 5.1 Busqueda por score total CONSALUD"
   ]
  },
  {
   "cell_type": "code",
   "execution_count": 27,
   "metadata": {},
   "outputs": [],
   "source": [
    "Busqueda_por_score_total_consalud = psql.sqldf(f\"\"\"\n",
    "SELECT \n",
    "    a.ID_FOLIO_CONTRATO,\n",
    "    a.tipificacion_signo,\n",
    "    a.F_VALOR_BASE_PLAN,\n",
    "        CASE \n",
    "        WHEN COALESCE(NULLIF(a.F_RENTA_IMPONIBLE_AFILIADO, 0), 36500) > 3096360 THEN 3096360\n",
    "        ELSE COALESCE(NULLIF(a.F_RENTA_IMPONIBLE_AFILIADO, 0), 36500)\n",
    "    END AS F_RENTA_IMPONIBLE_AFILIADO,\n",
    "    a.ID_CODIGO_COMERCIAL,\n",
    "    a.Factor_riesgo_343,\n",
    "    a.Ds_Zona,\n",
    "    a.Pactado_simulacion,\n",
    "    a.score_total_plan_actual,\n",
    "    a.F_CANT_BENEFICIARIOS_BENEF,\n",
    "    a.F_MONTO_COTIZ_PACTADA_GES,\n",
    "    a.RETENIBLE,\n",
    "    a.PRECIO_BENEFICIO_ADICIONAL,\n",
    "    b.ID_CODIGO_COMERCIAL as opciones_planes,\n",
    "    b.Valor_base AS valor_base_nuevas_opciones,\n",
    "    b.F_SCORE_HOSP AS score_total_nuevas_opciones,\n",
    "    b.tipo_plan,\n",
    "    b.marca_ret_mant,\n",
    "    (a.Factor_riesgo_343 * b.Valor_base + 0.602 * a.F_CANT_BENEFICIARIOS_BENEF) AS pactado_nuevas_opciones,\n",
    "    ROUND((a.Factor_riesgo_343 * b.Valor_base + 0.602 * a.F_CANT_BENEFICIARIOS_BENEF) / \n",
    "        (CAST(CASE \n",
    "                WHEN COALESCE(NULLIF(a.F_RENTA_IMPONIBLE_AFILIADO, 0), 36500) > 3096360 THEN 3096360\n",
    "                ELSE COALESCE(NULLIF(a.F_RENTA_IMPONIBLE_AFILIADO, 0), 36500)\n",
    "              END AS FLOAT) / {UF}), 4) as pactado_renta_nuevo\n",
    "FROM\n",
    "    Informacion_afiliados a\n",
    "JOIN \n",
    "    score_total_planes_comercializables_consalud b\n",
    "ON\n",
    "    a.Ds_Zona = b.ZONA\n",
    "WHERE\n",
    "   NOT (a.RETENIBLE = 0 AND b.marca_ret_mant = 'retencion')\n",
    "   AND   ROUND((a.Factor_riesgo_343 * b.Valor_base + 0.602 * a.F_RENTA_IMPONIBLE_AFILIADO) / \n",
    "       (CAST(CASE \n",
    "               WHEN COALESCE(NULLIF(a.F_RENTA_IMPONIBLE_AFILIADO, 0), 36500) > 3096360 THEN 3096360\n",
    "               ELSE COALESCE(NULLIF(a.F_RENTA_IMPONIBLE_AFILIADO, 0), 36500)\n",
    "             END AS FLOAT) / {UF}), 4) >= 0.06\n",
    "\"\"\")"
   ]
  },
  {
   "cell_type": "code",
   "execution_count": 28,
   "metadata": {},
   "outputs": [],
   "source": [
    "Busqueda_por_score_total_consalud['Diferencia_score_total']=Busqueda_por_score_total_consalud['score_total_nuevas_opciones']-Busqueda_por_score_total_consalud['score_total_plan_actual']\n",
    "Busqueda_por_score_total_consalud['Diferencia_pactado']=Busqueda_por_score_total_consalud['pactado_nuevas_opciones']-Busqueda_por_score_total_consalud['Pactado_simulacion']"
   ]
  },
  {
   "cell_type": "code",
   "execution_count": 29,
   "metadata": {},
   "outputs": [],
   "source": [
    "Busqueda_por_score_total_consalud_filtado=psql.sqldf(\"\"\"\n",
    "    SELECT \n",
    "        *\n",
    "    FROM Busqueda_por_score_total_consalud\n",
    "    WHERE Diferencia_pactado < 0\"\"\")"
   ]
  },
  {
   "cell_type": "code",
   "execution_count": 30,
   "metadata": {},
   "outputs": [],
   "source": [
    "Busqueda_por_score_total_consalud_filtado['busqueda'] = np.where((Busqueda_por_score_total_consalud_filtado['Diferencia_score_total'] > -0.2) & (Busqueda_por_score_total_consalud_filtado['Diferencia_score_total'] <= 0.2), 'busqueda 1',\n",
    "                  np.where(Busqueda_por_score_total_consalud_filtado['Diferencia_score_total'] > 0.2, 'busqueda 2', 'busqueda 3'))"
   ]
  },
  {
   "cell_type": "code",
   "execution_count": 32,
   "metadata": {},
   "outputs": [],
   "source": [
    " df = Busqueda_por_score_total_consalud_filtado\n",
    "\n",
    "# Función para obtener las métricas por tipo de búsqueda\n",
    "def get_busqueda_metrics(df, busqueda_tipo):\n",
    "    filtered_df = df[df['busqueda'] == busqueda_tipo]\n",
    "\n",
    "    # Obtener cantidad de ofertas por ID_FOLIO_CONTRATO\n",
    "    count_df = filtered_df.groupby('ID_FOLIO_CONTRATO').size().reset_index(name=f'cantidad_oferta_{busqueda_tipo}')\n",
    "\n",
    "    # Obtener el pactado mínimo y sus correspondientes código comercial y score\n",
    "    min_df = filtered_df.loc[filtered_df.groupby('ID_FOLIO_CONTRATO')['pactado_nuevas_opciones'].idxmin()]\n",
    "\n",
    "    min_df = min_df[['ID_FOLIO_CONTRATO', 'pactado_nuevas_opciones', 'opciones_planes', 'Diferencia_score_total']]\n",
    "\n",
    "    min_df.columns = [\n",
    "        'ID_FOLIO_CONTRATO',\n",
    "        f'pactado_minimo_{busqueda_tipo}',\n",
    "        f'codigo_comercial_minimo_{busqueda_tipo}',\n",
    "        f'score_minimo_{busqueda_tipo}'\n",
    "    ]\n",
    "\n",
    "    # Unir las dos tablas\n",
    "    result_df = count_df.merge(min_df, on='ID_FOLIO_CONTRATO', how='left')\n",
    "\n",
    "    return result_df\n",
    "\n",
    "# Obtener métricas para cada tipo de búsqueda\n",
    "busqueda_1_metrics = get_busqueda_metrics(df, 'busqueda 1')\n",
    "busqueda_2_metrics = get_busqueda_metrics(df, 'busqueda 2')\n",
    "busqueda_3_metrics = get_busqueda_metrics(df, 'busqueda 3')\n",
    "\n",
    "# Combinar los resultados para cada tipo de búsqueda en un único DataFrame\n",
    "Busqueda_por_score_total_consalud = busqueda_1_metrics.merge(busqueda_2_metrics, on='ID_FOLIO_CONTRATO', how='outer')\\\n",
    "                           .merge(busqueda_3_metrics, on='ID_FOLIO_CONTRATO', how='outer')"
   ]
  },
  {
   "cell_type": "code",
   "execution_count": 33,
   "metadata": {},
   "outputs": [],
   "source": [
    "Busqueda_por_score_total_consalud = Busqueda_por_score_total_consalud.fillna(\"Sin Oferta\")"
   ]
  },
  {
   "cell_type": "markdown",
   "metadata": {},
   "source": [
    "### 5.2 Busqueda por score total COMPETENCIA"
   ]
  },
  {
   "cell_type": "code",
   "execution_count": 28,
   "metadata": {},
   "outputs": [],
   "source": [
    "Busqueda_por_score_total_competencia = psql.sqldf(f\"\"\"\n",
    "SELECT \n",
    "    a.ID_FOLIO_CONTRATO,\n",
    "    a.Tipificacion_Signo,\n",
    "    a.F_VALOR_BASE_PLAN,\n",
    "    CASE \n",
    "        WHEN COALESCE(NULLIF(a.F_RENTA_IMPONIBLE_AFILIADO, 0), 36500) > 3096360 THEN 3096360\n",
    "        ELSE COALESCE(NULLIF(a.F_RENTA_IMPONIBLE_AFILIADO, 0), 36500)\n",
    "    END AS F_RENTA_IMPONIBLE_AFILIADO,\n",
    "    a.ID_CODIGO_COMERCIAL,\n",
    "    a.Factor_riesgo_343,\n",
    "    a.Ds_Zona,\n",
    "    a.Pactado_simulacion,\n",
    "    a.score_total_plan_actual,\n",
    "    a.F_CANT_BENEFICIARIOS_BENEF,\n",
    "    a.F_MONTO_COTIZ_PACTADA_GES,\n",
    "    b.ID_CODIGO_COMERCIAL as opciones_planes,\n",
    "    b.F_VALOR_BASE AS valor_base_nuevas_opciones,\n",
    "    b.F_SCORE_HOSP_PLAN AS score_total_nuevas_opciones,\n",
    "    b.DS_ISAPRE,\n",
    "    b.F_GES AS Ges_Isapre,\n",
    "    (a.Factor_riesgo_343*b.F_VALOR_BASE+b.F_GES*a.F_CANT_BENEFICIARIOS_BENEF) as pactado_nuevas_opciones,\n",
    "    ROUND((a.Factor_riesgo_343 * b.F_VALOR_BASE + b.F_GES * a.F_CANT_BENEFICIARIOS_BENEF) / \n",
    "        (CAST(CASE \n",
    "                WHEN COALESCE(NULLIF(a.F_RENTA_IMPONIBLE_AFILIADO, 0), 36500) > 3096360 THEN 3096360\n",
    "                ELSE COALESCE(NULLIF(a.F_RENTA_IMPONIBLE_AFILIADO, 0), 36500)\n",
    "              END AS FLOAT) / {UF}), 4) as pactado_renta_nuevo\n",
    "FROM\n",
    "    Informacion_afiliados a\n",
    "JOIN \n",
    "    score_total_planes_comercializables_competencia b\n",
    "ON\n",
    "    a.Ds_Zona = b.DS_ZONA_COMERCIALIZACION\n",
    "WHERE\n",
    "    ROUND((a.Factor_riesgo_343 * b.F_VALOR_BASE + 0.602 * a.F_RENTA_IMPONIBLE_AFILIADO) / \n",
    "       (CAST(CASE \n",
    "               WHEN COALESCE(NULLIF(a.F_RENTA_IMPONIBLE_AFILIADO, 0), 36500) > 3096360 THEN 3096360\n",
    "               ELSE COALESCE(NULLIF(a.F_RENTA_IMPONIBLE_AFILIADO, 0), 36500)\n",
    "             END AS FLOAT) / {UF}), 4) >= 0.06\n",
    "    AND ABS(a.Score_total_plan_actual - b.F_SCORE_HOSP_PLAN) <= 1.0 \n",
    "\"\"\")"
   ]
  },
  {
   "cell_type": "code",
   "execution_count": 4,
   "metadata": {},
   "outputs": [
    {
     "ename": "NameError",
     "evalue": "name 'Busqueda_por_score_total_competencia' is not defined",
     "output_type": "error",
     "traceback": [
      "\u001b[1;31m---------------------------------------------------------------------------\u001b[0m",
      "\u001b[1;31mNameError\u001b[0m                                 Traceback (most recent call last)",
      "Cell \u001b[1;32mIn[4], line 1\u001b[0m\n\u001b[1;32m----> 1\u001b[0m \u001b[43mBusqueda_por_score_total_competencia\u001b[49m\n",
      "\u001b[1;31mNameError\u001b[0m: name 'Busqueda_por_score_total_competencia' is not defined"
     ]
    }
   ],
   "source": [
    "Busqueda_por_score_total_competencia"
   ]
  }
 ],
 "metadata": {
  "kernelspec": {
   "display_name": "Python 3",
   "language": "python",
   "name": "python3"
  },
  "language_info": {
   "codemirror_mode": {
    "name": "ipython",
    "version": 3
   },
   "file_extension": ".py",
   "mimetype": "text/x-python",
   "name": "python",
   "nbconvert_exporter": "python",
   "pygments_lexer": "ipython3",
   "version": "3.12.4"
  }
 },
 "nbformat": 4,
 "nbformat_minor": 2
}
